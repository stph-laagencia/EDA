{
 "cells": [
  {
   "cell_type": "code",
   "execution_count": 1,
   "metadata": {
    "collapsed": true
   },
   "outputs": [],
   "source": [
    "import pandas as pd"
   ]
  },
  {
   "cell_type": "markdown",
   "source": [
    "### 1. Reading the dataset"
   ],
   "metadata": {
    "collapsed": false
   }
  },
  {
   "cell_type": "code",
   "execution_count": 2,
   "outputs": [],
   "source": [
    "df = pd.read_csv(\"madrid_airbnb_data_2023.csv\")"
   ],
   "metadata": {
    "collapsed": false
   }
  },
  {
   "cell_type": "markdown",
   "source": [
    "### 2. Show the dataset"
   ],
   "metadata": {
    "collapsed": false
   }
  },
  {
   "cell_type": "code",
   "execution_count": 3,
   "outputs": [
    {
     "data": {
      "text/plain": "                       id                                               name  \\\n0                    6369  Rental unit in Madrid · ★4.87 · 1 bedroom · 1 ...   \n1                   21853  Rental unit in Madrid · ★4.58 · 1 bedroom · 1 ...   \n2                  451174  casa particular in Madrid · ★4.71 · 1 bedroom ...   \n3                   24805  Rental unit in Madrid · ★4.90 · 6 bedrooms · 1...   \n4                  456165  Guest suite in Madrid · ★5.0 · 1 bedroom · 1 b...   \n...                   ...                                                ...   \n23519  908757271360095110  Rental unit in Madrid · ★New · 2 bedrooms · 2 ...   \n23520  908768034188159973  Rental unit in Madrid · ★New · 3 bedrooms · 3 ...   \n23521  908772325334371147  Rental unit in Madrid · ★New · 1 bedroom · 1 b...   \n23522  908774672501330570  Rental unit in Madrid · ★New · 1 bedroom · 1 b...   \n23523  908784742161639676  Rental unit in Madrid · ★New · 2 bedrooms · 2 ...   \n\n         host_id  host_name neighbourhood_group   neighbourhood   latitude  \\\n0          13660      Simon           Chamartín  Hispanoamérica  40.457240   \n1          83531      Abdel              Latina        Cármenes  40.403810   \n2        2240898  Alejandro            Chamberí         Almagro  40.434551   \n3      346366726     Alvaro              Centro     Universidad  40.421830   \n4         617086      Agata         Carabanchel        Comillas  40.390320   \n...          ...        ...                 ...             ...        ...   \n23519  518713670   Bemadrid              Centro     Embajadores  40.409300   \n23520  518713670   Bemadrid   Moncloa - Aravaca       Argüelles  40.430675   \n23521  460488106  Alexander             Barajas           Timón  40.471325   \n23522  518713670   Bemadrid           Chamartín        Castilla  40.470550   \n23523  518713670   Bemadrid           Salamanca           Lista  40.431580   \n\n       longitude        room_type  price  minimum_nights  number_of_reviews  \\\n0      -3.676880     Private room     90               4                104   \n1      -3.741300     Private room     31               4                 33   \n2      -3.698387     Private room     47               3                 33   \n3      -3.705290  Entire home/apt     92               5                 29   \n4      -3.713820     Private room     30               2                 10   \n...          ...              ...    ...             ...                ...   \n23519  -3.695370  Entire home/apt    128              30                  0   \n23520  -3.720135  Entire home/apt    129              30                  0   \n23521  -3.584069     Private room     33               1                  0   \n23522  -3.673990  Entire home/apt    100              30                  0   \n23523  -3.674990  Entire home/apt     92              30                  0   \n\n      last_review  reviews_per_month  calculated_host_listings_count  \\\n0      2023-05-31               0.65                               1   \n1      2018-07-15               0.31                               2   \n2      2023-06-05               0.53                               1   \n3      2023-05-23               0.28                               1   \n4      2023-05-21               0.14                               1   \n...           ...                ...                             ...   \n23519         NaN                NaN                              30   \n23520         NaN                NaN                              30   \n23521         NaN                NaN                               2   \n23522         NaN                NaN                              30   \n23523         NaN                NaN                              30   \n\n       availability_365  number_of_reviews_ltm license  \n0                    98                      9     NaN  \n1                   313                      0     NaN  \n2                    72                     21     NaN  \n3                   161                     11     NaN  \n4                     4                      3     NaN  \n...                 ...                    ...     ...  \n23519               364                      0     NaN  \n23520               365                      0     NaN  \n23521               352                      0     NaN  \n23522               365                      0     NaN  \n23523               365                      0     NaN  \n\n[23524 rows x 18 columns]",
      "text/html": "<div>\n<style scoped>\n    .dataframe tbody tr th:only-of-type {\n        vertical-align: middle;\n    }\n\n    .dataframe tbody tr th {\n        vertical-align: top;\n    }\n\n    .dataframe thead th {\n        text-align: right;\n    }\n</style>\n<table border=\"1\" class=\"dataframe\">\n  <thead>\n    <tr style=\"text-align: right;\">\n      <th></th>\n      <th>id</th>\n      <th>name</th>\n      <th>host_id</th>\n      <th>host_name</th>\n      <th>neighbourhood_group</th>\n      <th>neighbourhood</th>\n      <th>latitude</th>\n      <th>longitude</th>\n      <th>room_type</th>\n      <th>price</th>\n      <th>minimum_nights</th>\n      <th>number_of_reviews</th>\n      <th>last_review</th>\n      <th>reviews_per_month</th>\n      <th>calculated_host_listings_count</th>\n      <th>availability_365</th>\n      <th>number_of_reviews_ltm</th>\n      <th>license</th>\n    </tr>\n  </thead>\n  <tbody>\n    <tr>\n      <th>0</th>\n      <td>6369</td>\n      <td>Rental unit in Madrid · ★4.87 · 1 bedroom · 1 ...</td>\n      <td>13660</td>\n      <td>Simon</td>\n      <td>Chamartín</td>\n      <td>Hispanoamérica</td>\n      <td>40.457240</td>\n      <td>-3.676880</td>\n      <td>Private room</td>\n      <td>90</td>\n      <td>4</td>\n      <td>104</td>\n      <td>2023-05-31</td>\n      <td>0.65</td>\n      <td>1</td>\n      <td>98</td>\n      <td>9</td>\n      <td>NaN</td>\n    </tr>\n    <tr>\n      <th>1</th>\n      <td>21853</td>\n      <td>Rental unit in Madrid · ★4.58 · 1 bedroom · 1 ...</td>\n      <td>83531</td>\n      <td>Abdel</td>\n      <td>Latina</td>\n      <td>Cármenes</td>\n      <td>40.403810</td>\n      <td>-3.741300</td>\n      <td>Private room</td>\n      <td>31</td>\n      <td>4</td>\n      <td>33</td>\n      <td>2018-07-15</td>\n      <td>0.31</td>\n      <td>2</td>\n      <td>313</td>\n      <td>0</td>\n      <td>NaN</td>\n    </tr>\n    <tr>\n      <th>2</th>\n      <td>451174</td>\n      <td>casa particular in Madrid · ★4.71 · 1 bedroom ...</td>\n      <td>2240898</td>\n      <td>Alejandro</td>\n      <td>Chamberí</td>\n      <td>Almagro</td>\n      <td>40.434551</td>\n      <td>-3.698387</td>\n      <td>Private room</td>\n      <td>47</td>\n      <td>3</td>\n      <td>33</td>\n      <td>2023-06-05</td>\n      <td>0.53</td>\n      <td>1</td>\n      <td>72</td>\n      <td>21</td>\n      <td>NaN</td>\n    </tr>\n    <tr>\n      <th>3</th>\n      <td>24805</td>\n      <td>Rental unit in Madrid · ★4.90 · 6 bedrooms · 1...</td>\n      <td>346366726</td>\n      <td>Alvaro</td>\n      <td>Centro</td>\n      <td>Universidad</td>\n      <td>40.421830</td>\n      <td>-3.705290</td>\n      <td>Entire home/apt</td>\n      <td>92</td>\n      <td>5</td>\n      <td>29</td>\n      <td>2023-05-23</td>\n      <td>0.28</td>\n      <td>1</td>\n      <td>161</td>\n      <td>11</td>\n      <td>NaN</td>\n    </tr>\n    <tr>\n      <th>4</th>\n      <td>456165</td>\n      <td>Guest suite in Madrid · ★5.0 · 1 bedroom · 1 b...</td>\n      <td>617086</td>\n      <td>Agata</td>\n      <td>Carabanchel</td>\n      <td>Comillas</td>\n      <td>40.390320</td>\n      <td>-3.713820</td>\n      <td>Private room</td>\n      <td>30</td>\n      <td>2</td>\n      <td>10</td>\n      <td>2023-05-21</td>\n      <td>0.14</td>\n      <td>1</td>\n      <td>4</td>\n      <td>3</td>\n      <td>NaN</td>\n    </tr>\n    <tr>\n      <th>...</th>\n      <td>...</td>\n      <td>...</td>\n      <td>...</td>\n      <td>...</td>\n      <td>...</td>\n      <td>...</td>\n      <td>...</td>\n      <td>...</td>\n      <td>...</td>\n      <td>...</td>\n      <td>...</td>\n      <td>...</td>\n      <td>...</td>\n      <td>...</td>\n      <td>...</td>\n      <td>...</td>\n      <td>...</td>\n      <td>...</td>\n    </tr>\n    <tr>\n      <th>23519</th>\n      <td>908757271360095110</td>\n      <td>Rental unit in Madrid · ★New · 2 bedrooms · 2 ...</td>\n      <td>518713670</td>\n      <td>Bemadrid</td>\n      <td>Centro</td>\n      <td>Embajadores</td>\n      <td>40.409300</td>\n      <td>-3.695370</td>\n      <td>Entire home/apt</td>\n      <td>128</td>\n      <td>30</td>\n      <td>0</td>\n      <td>NaN</td>\n      <td>NaN</td>\n      <td>30</td>\n      <td>364</td>\n      <td>0</td>\n      <td>NaN</td>\n    </tr>\n    <tr>\n      <th>23520</th>\n      <td>908768034188159973</td>\n      <td>Rental unit in Madrid · ★New · 3 bedrooms · 3 ...</td>\n      <td>518713670</td>\n      <td>Bemadrid</td>\n      <td>Moncloa - Aravaca</td>\n      <td>Argüelles</td>\n      <td>40.430675</td>\n      <td>-3.720135</td>\n      <td>Entire home/apt</td>\n      <td>129</td>\n      <td>30</td>\n      <td>0</td>\n      <td>NaN</td>\n      <td>NaN</td>\n      <td>30</td>\n      <td>365</td>\n      <td>0</td>\n      <td>NaN</td>\n    </tr>\n    <tr>\n      <th>23521</th>\n      <td>908772325334371147</td>\n      <td>Rental unit in Madrid · ★New · 1 bedroom · 1 b...</td>\n      <td>460488106</td>\n      <td>Alexander</td>\n      <td>Barajas</td>\n      <td>Timón</td>\n      <td>40.471325</td>\n      <td>-3.584069</td>\n      <td>Private room</td>\n      <td>33</td>\n      <td>1</td>\n      <td>0</td>\n      <td>NaN</td>\n      <td>NaN</td>\n      <td>2</td>\n      <td>352</td>\n      <td>0</td>\n      <td>NaN</td>\n    </tr>\n    <tr>\n      <th>23522</th>\n      <td>908774672501330570</td>\n      <td>Rental unit in Madrid · ★New · 1 bedroom · 1 b...</td>\n      <td>518713670</td>\n      <td>Bemadrid</td>\n      <td>Chamartín</td>\n      <td>Castilla</td>\n      <td>40.470550</td>\n      <td>-3.673990</td>\n      <td>Entire home/apt</td>\n      <td>100</td>\n      <td>30</td>\n      <td>0</td>\n      <td>NaN</td>\n      <td>NaN</td>\n      <td>30</td>\n      <td>365</td>\n      <td>0</td>\n      <td>NaN</td>\n    </tr>\n    <tr>\n      <th>23523</th>\n      <td>908784742161639676</td>\n      <td>Rental unit in Madrid · ★New · 2 bedrooms · 2 ...</td>\n      <td>518713670</td>\n      <td>Bemadrid</td>\n      <td>Salamanca</td>\n      <td>Lista</td>\n      <td>40.431580</td>\n      <td>-3.674990</td>\n      <td>Entire home/apt</td>\n      <td>92</td>\n      <td>30</td>\n      <td>0</td>\n      <td>NaN</td>\n      <td>NaN</td>\n      <td>30</td>\n      <td>365</td>\n      <td>0</td>\n      <td>NaN</td>\n    </tr>\n  </tbody>\n</table>\n<p>23524 rows × 18 columns</p>\n</div>"
     },
     "execution_count": 3,
     "metadata": {},
     "output_type": "execute_result"
    }
   ],
   "source": [
    "df"
   ],
   "metadata": {
    "collapsed": false
   }
  },
  {
   "cell_type": "markdown",
   "source": [
    "### 3. Show the first dataset rows --> `.head()`"
   ],
   "metadata": {
    "collapsed": false
   }
  },
  {
   "cell_type": "code",
   "execution_count": 4,
   "outputs": [
    {
     "data": {
      "text/plain": "       id                                               name    host_id  \\\n0    6369  Rental unit in Madrid · ★4.87 · 1 bedroom · 1 ...      13660   \n1   21853  Rental unit in Madrid · ★4.58 · 1 bedroom · 1 ...      83531   \n2  451174  casa particular in Madrid · ★4.71 · 1 bedroom ...    2240898   \n3   24805  Rental unit in Madrid · ★4.90 · 6 bedrooms · 1...  346366726   \n4  456165  Guest suite in Madrid · ★5.0 · 1 bedroom · 1 b...     617086   \n\n   host_name neighbourhood_group   neighbourhood   latitude  longitude  \\\n0      Simon           Chamartín  Hispanoamérica  40.457240  -3.676880   \n1      Abdel              Latina        Cármenes  40.403810  -3.741300   \n2  Alejandro            Chamberí         Almagro  40.434551  -3.698387   \n3     Alvaro              Centro     Universidad  40.421830  -3.705290   \n4      Agata         Carabanchel        Comillas  40.390320  -3.713820   \n\n         room_type  price  minimum_nights  number_of_reviews last_review  \\\n0     Private room     90               4                104  2023-05-31   \n1     Private room     31               4                 33  2018-07-15   \n2     Private room     47               3                 33  2023-06-05   \n3  Entire home/apt     92               5                 29  2023-05-23   \n4     Private room     30               2                 10  2023-05-21   \n\n   reviews_per_month  calculated_host_listings_count  availability_365  \\\n0               0.65                               1                98   \n1               0.31                               2               313   \n2               0.53                               1                72   \n3               0.28                               1               161   \n4               0.14                               1                 4   \n\n   number_of_reviews_ltm license  \n0                      9     NaN  \n1                      0     NaN  \n2                     21     NaN  \n3                     11     NaN  \n4                      3     NaN  ",
      "text/html": "<div>\n<style scoped>\n    .dataframe tbody tr th:only-of-type {\n        vertical-align: middle;\n    }\n\n    .dataframe tbody tr th {\n        vertical-align: top;\n    }\n\n    .dataframe thead th {\n        text-align: right;\n    }\n</style>\n<table border=\"1\" class=\"dataframe\">\n  <thead>\n    <tr style=\"text-align: right;\">\n      <th></th>\n      <th>id</th>\n      <th>name</th>\n      <th>host_id</th>\n      <th>host_name</th>\n      <th>neighbourhood_group</th>\n      <th>neighbourhood</th>\n      <th>latitude</th>\n      <th>longitude</th>\n      <th>room_type</th>\n      <th>price</th>\n      <th>minimum_nights</th>\n      <th>number_of_reviews</th>\n      <th>last_review</th>\n      <th>reviews_per_month</th>\n      <th>calculated_host_listings_count</th>\n      <th>availability_365</th>\n      <th>number_of_reviews_ltm</th>\n      <th>license</th>\n    </tr>\n  </thead>\n  <tbody>\n    <tr>\n      <th>0</th>\n      <td>6369</td>\n      <td>Rental unit in Madrid · ★4.87 · 1 bedroom · 1 ...</td>\n      <td>13660</td>\n      <td>Simon</td>\n      <td>Chamartín</td>\n      <td>Hispanoamérica</td>\n      <td>40.457240</td>\n      <td>-3.676880</td>\n      <td>Private room</td>\n      <td>90</td>\n      <td>4</td>\n      <td>104</td>\n      <td>2023-05-31</td>\n      <td>0.65</td>\n      <td>1</td>\n      <td>98</td>\n      <td>9</td>\n      <td>NaN</td>\n    </tr>\n    <tr>\n      <th>1</th>\n      <td>21853</td>\n      <td>Rental unit in Madrid · ★4.58 · 1 bedroom · 1 ...</td>\n      <td>83531</td>\n      <td>Abdel</td>\n      <td>Latina</td>\n      <td>Cármenes</td>\n      <td>40.403810</td>\n      <td>-3.741300</td>\n      <td>Private room</td>\n      <td>31</td>\n      <td>4</td>\n      <td>33</td>\n      <td>2018-07-15</td>\n      <td>0.31</td>\n      <td>2</td>\n      <td>313</td>\n      <td>0</td>\n      <td>NaN</td>\n    </tr>\n    <tr>\n      <th>2</th>\n      <td>451174</td>\n      <td>casa particular in Madrid · ★4.71 · 1 bedroom ...</td>\n      <td>2240898</td>\n      <td>Alejandro</td>\n      <td>Chamberí</td>\n      <td>Almagro</td>\n      <td>40.434551</td>\n      <td>-3.698387</td>\n      <td>Private room</td>\n      <td>47</td>\n      <td>3</td>\n      <td>33</td>\n      <td>2023-06-05</td>\n      <td>0.53</td>\n      <td>1</td>\n      <td>72</td>\n      <td>21</td>\n      <td>NaN</td>\n    </tr>\n    <tr>\n      <th>3</th>\n      <td>24805</td>\n      <td>Rental unit in Madrid · ★4.90 · 6 bedrooms · 1...</td>\n      <td>346366726</td>\n      <td>Alvaro</td>\n      <td>Centro</td>\n      <td>Universidad</td>\n      <td>40.421830</td>\n      <td>-3.705290</td>\n      <td>Entire home/apt</td>\n      <td>92</td>\n      <td>5</td>\n      <td>29</td>\n      <td>2023-05-23</td>\n      <td>0.28</td>\n      <td>1</td>\n      <td>161</td>\n      <td>11</td>\n      <td>NaN</td>\n    </tr>\n    <tr>\n      <th>4</th>\n      <td>456165</td>\n      <td>Guest suite in Madrid · ★5.0 · 1 bedroom · 1 b...</td>\n      <td>617086</td>\n      <td>Agata</td>\n      <td>Carabanchel</td>\n      <td>Comillas</td>\n      <td>40.390320</td>\n      <td>-3.713820</td>\n      <td>Private room</td>\n      <td>30</td>\n      <td>2</td>\n      <td>10</td>\n      <td>2023-05-21</td>\n      <td>0.14</td>\n      <td>1</td>\n      <td>4</td>\n      <td>3</td>\n      <td>NaN</td>\n    </tr>\n  </tbody>\n</table>\n</div>"
     },
     "execution_count": 4,
     "metadata": {},
     "output_type": "execute_result"
    }
   ],
   "source": [
    "df.head()"
   ],
   "metadata": {
    "collapsed": false
   }
  },
  {
   "cell_type": "markdown",
   "source": [
    "### 4. Show the last dataset rows --> `.tail()`"
   ],
   "metadata": {
    "collapsed": false
   }
  },
  {
   "cell_type": "code",
   "execution_count": 5,
   "outputs": [
    {
     "data": {
      "text/plain": "                       id                                               name  \\\n23519  908757271360095110  Rental unit in Madrid · ★New · 2 bedrooms · 2 ...   \n23520  908768034188159973  Rental unit in Madrid · ★New · 3 bedrooms · 3 ...   \n23521  908772325334371147  Rental unit in Madrid · ★New · 1 bedroom · 1 b...   \n23522  908774672501330570  Rental unit in Madrid · ★New · 1 bedroom · 1 b...   \n23523  908784742161639676  Rental unit in Madrid · ★New · 2 bedrooms · 2 ...   \n\n         host_id  host_name neighbourhood_group neighbourhood   latitude  \\\n23519  518713670   Bemadrid              Centro   Embajadores  40.409300   \n23520  518713670   Bemadrid   Moncloa - Aravaca     Argüelles  40.430675   \n23521  460488106  Alexander             Barajas         Timón  40.471325   \n23522  518713670   Bemadrid           Chamartín      Castilla  40.470550   \n23523  518713670   Bemadrid           Salamanca         Lista  40.431580   \n\n       longitude        room_type  price  minimum_nights  number_of_reviews  \\\n23519  -3.695370  Entire home/apt    128              30                  0   \n23520  -3.720135  Entire home/apt    129              30                  0   \n23521  -3.584069     Private room     33               1                  0   \n23522  -3.673990  Entire home/apt    100              30                  0   \n23523  -3.674990  Entire home/apt     92              30                  0   \n\n      last_review  reviews_per_month  calculated_host_listings_count  \\\n23519         NaN                NaN                              30   \n23520         NaN                NaN                              30   \n23521         NaN                NaN                               2   \n23522         NaN                NaN                              30   \n23523         NaN                NaN                              30   \n\n       availability_365  number_of_reviews_ltm license  \n23519               364                      0     NaN  \n23520               365                      0     NaN  \n23521               352                      0     NaN  \n23522               365                      0     NaN  \n23523               365                      0     NaN  ",
      "text/html": "<div>\n<style scoped>\n    .dataframe tbody tr th:only-of-type {\n        vertical-align: middle;\n    }\n\n    .dataframe tbody tr th {\n        vertical-align: top;\n    }\n\n    .dataframe thead th {\n        text-align: right;\n    }\n</style>\n<table border=\"1\" class=\"dataframe\">\n  <thead>\n    <tr style=\"text-align: right;\">\n      <th></th>\n      <th>id</th>\n      <th>name</th>\n      <th>host_id</th>\n      <th>host_name</th>\n      <th>neighbourhood_group</th>\n      <th>neighbourhood</th>\n      <th>latitude</th>\n      <th>longitude</th>\n      <th>room_type</th>\n      <th>price</th>\n      <th>minimum_nights</th>\n      <th>number_of_reviews</th>\n      <th>last_review</th>\n      <th>reviews_per_month</th>\n      <th>calculated_host_listings_count</th>\n      <th>availability_365</th>\n      <th>number_of_reviews_ltm</th>\n      <th>license</th>\n    </tr>\n  </thead>\n  <tbody>\n    <tr>\n      <th>23519</th>\n      <td>908757271360095110</td>\n      <td>Rental unit in Madrid · ★New · 2 bedrooms · 2 ...</td>\n      <td>518713670</td>\n      <td>Bemadrid</td>\n      <td>Centro</td>\n      <td>Embajadores</td>\n      <td>40.409300</td>\n      <td>-3.695370</td>\n      <td>Entire home/apt</td>\n      <td>128</td>\n      <td>30</td>\n      <td>0</td>\n      <td>NaN</td>\n      <td>NaN</td>\n      <td>30</td>\n      <td>364</td>\n      <td>0</td>\n      <td>NaN</td>\n    </tr>\n    <tr>\n      <th>23520</th>\n      <td>908768034188159973</td>\n      <td>Rental unit in Madrid · ★New · 3 bedrooms · 3 ...</td>\n      <td>518713670</td>\n      <td>Bemadrid</td>\n      <td>Moncloa - Aravaca</td>\n      <td>Argüelles</td>\n      <td>40.430675</td>\n      <td>-3.720135</td>\n      <td>Entire home/apt</td>\n      <td>129</td>\n      <td>30</td>\n      <td>0</td>\n      <td>NaN</td>\n      <td>NaN</td>\n      <td>30</td>\n      <td>365</td>\n      <td>0</td>\n      <td>NaN</td>\n    </tr>\n    <tr>\n      <th>23521</th>\n      <td>908772325334371147</td>\n      <td>Rental unit in Madrid · ★New · 1 bedroom · 1 b...</td>\n      <td>460488106</td>\n      <td>Alexander</td>\n      <td>Barajas</td>\n      <td>Timón</td>\n      <td>40.471325</td>\n      <td>-3.584069</td>\n      <td>Private room</td>\n      <td>33</td>\n      <td>1</td>\n      <td>0</td>\n      <td>NaN</td>\n      <td>NaN</td>\n      <td>2</td>\n      <td>352</td>\n      <td>0</td>\n      <td>NaN</td>\n    </tr>\n    <tr>\n      <th>23522</th>\n      <td>908774672501330570</td>\n      <td>Rental unit in Madrid · ★New · 1 bedroom · 1 b...</td>\n      <td>518713670</td>\n      <td>Bemadrid</td>\n      <td>Chamartín</td>\n      <td>Castilla</td>\n      <td>40.470550</td>\n      <td>-3.673990</td>\n      <td>Entire home/apt</td>\n      <td>100</td>\n      <td>30</td>\n      <td>0</td>\n      <td>NaN</td>\n      <td>NaN</td>\n      <td>30</td>\n      <td>365</td>\n      <td>0</td>\n      <td>NaN</td>\n    </tr>\n    <tr>\n      <th>23523</th>\n      <td>908784742161639676</td>\n      <td>Rental unit in Madrid · ★New · 2 bedrooms · 2 ...</td>\n      <td>518713670</td>\n      <td>Bemadrid</td>\n      <td>Salamanca</td>\n      <td>Lista</td>\n      <td>40.431580</td>\n      <td>-3.674990</td>\n      <td>Entire home/apt</td>\n      <td>92</td>\n      <td>30</td>\n      <td>0</td>\n      <td>NaN</td>\n      <td>NaN</td>\n      <td>30</td>\n      <td>365</td>\n      <td>0</td>\n      <td>NaN</td>\n    </tr>\n  </tbody>\n</table>\n</div>"
     },
     "execution_count": 5,
     "metadata": {},
     "output_type": "execute_result"
    }
   ],
   "source": [
    "df.tail()"
   ],
   "metadata": {
    "collapsed": false
   }
  },
  {
   "cell_type": "markdown",
   "source": [
    "### Create a new dataframe with Pandas\n",
    "\n",
    "\n",
    "#### What's a DataFrame?\n",
    "\n",
    "A DataFrame is a two-dimensional tabular data structure (columns and rows) with an index in each row.\n"
   ],
   "metadata": {
    "collapsed": false
   }
  },
  {
   "cell_type": "code",
   "execution_count": 7,
   "outputs": [],
   "source": [
    "kids_born = pd.DataFrame({'year_born':[2013,2014,2012,2011,2021],\n",
    "                          'name':[\"Mila\",\"Sara\", \"Mathias\",\"Juan Vicente\", \"Mario\" ],\n",
    "                          'mom_name':[\"Mona\", \"Mona\", \"Steph\", \"Lina\", \"Maria Angelica\"],\n",
    "                          'country':[\"Finland\", \"Finland\", \"Spain\", \"Colombia\", \"Colombia\"]\n",
    "                          })"
   ],
   "metadata": {
    "collapsed": false
   }
  },
  {
   "cell_type": "code",
   "execution_count": 8,
   "outputs": [
    {
     "data": {
      "text/plain": "   year_born          name        mom_name   country\n0       2013          Mila            Mona   Finland\n1       2014          Sara            Mona   Finland\n2       2012       Mathias           Steph     Spain\n3       2011  Juan Vicente            Lina  Colombia\n4       2021         Mario  Maria Angelica  Colombia",
      "text/html": "<div>\n<style scoped>\n    .dataframe tbody tr th:only-of-type {\n        vertical-align: middle;\n    }\n\n    .dataframe tbody tr th {\n        vertical-align: top;\n    }\n\n    .dataframe thead th {\n        text-align: right;\n    }\n</style>\n<table border=\"1\" class=\"dataframe\">\n  <thead>\n    <tr style=\"text-align: right;\">\n      <th></th>\n      <th>year_born</th>\n      <th>name</th>\n      <th>mom_name</th>\n      <th>country</th>\n    </tr>\n  </thead>\n  <tbody>\n    <tr>\n      <th>0</th>\n      <td>2013</td>\n      <td>Mila</td>\n      <td>Mona</td>\n      <td>Finland</td>\n    </tr>\n    <tr>\n      <th>1</th>\n      <td>2014</td>\n      <td>Sara</td>\n      <td>Mona</td>\n      <td>Finland</td>\n    </tr>\n    <tr>\n      <th>2</th>\n      <td>2012</td>\n      <td>Mathias</td>\n      <td>Steph</td>\n      <td>Spain</td>\n    </tr>\n    <tr>\n      <th>3</th>\n      <td>2011</td>\n      <td>Juan Vicente</td>\n      <td>Lina</td>\n      <td>Colombia</td>\n    </tr>\n    <tr>\n      <th>4</th>\n      <td>2021</td>\n      <td>Mario</td>\n      <td>Maria Angelica</td>\n      <td>Colombia</td>\n    </tr>\n  </tbody>\n</table>\n</div>"
     },
     "execution_count": 8,
     "metadata": {},
     "output_type": "execute_result"
    }
   ],
   "source": [
    "kids_born"
   ],
   "metadata": {
    "collapsed": false
   }
  },
  {
   "cell_type": "markdown",
   "source": [
    "### Rename columns in a dataframe"
   ],
   "metadata": {
    "collapsed": false
   }
  },
  {
   "cell_type": "markdown",
   "source": [
    "#### Rename one column"
   ],
   "metadata": {
    "collapsed": false
   }
  },
  {
   "cell_type": "code",
   "execution_count": 9,
   "outputs": [
    {
     "data": {
      "text/plain": "   year_born      new_name        mom_name   country\n0       2013          Mila            Mona   Finland\n1       2014          Sara            Mona   Finland\n2       2012       Mathias           Steph     Spain\n3       2011  Juan Vicente            Lina  Colombia\n4       2021         Mario  Maria Angelica  Colombia",
      "text/html": "<div>\n<style scoped>\n    .dataframe tbody tr th:only-of-type {\n        vertical-align: middle;\n    }\n\n    .dataframe tbody tr th {\n        vertical-align: top;\n    }\n\n    .dataframe thead th {\n        text-align: right;\n    }\n</style>\n<table border=\"1\" class=\"dataframe\">\n  <thead>\n    <tr style=\"text-align: right;\">\n      <th></th>\n      <th>year_born</th>\n      <th>new_name</th>\n      <th>mom_name</th>\n      <th>country</th>\n    </tr>\n  </thead>\n  <tbody>\n    <tr>\n      <th>0</th>\n      <td>2013</td>\n      <td>Mila</td>\n      <td>Mona</td>\n      <td>Finland</td>\n    </tr>\n    <tr>\n      <th>1</th>\n      <td>2014</td>\n      <td>Sara</td>\n      <td>Mona</td>\n      <td>Finland</td>\n    </tr>\n    <tr>\n      <th>2</th>\n      <td>2012</td>\n      <td>Mathias</td>\n      <td>Steph</td>\n      <td>Spain</td>\n    </tr>\n    <tr>\n      <th>3</th>\n      <td>2011</td>\n      <td>Juan Vicente</td>\n      <td>Lina</td>\n      <td>Colombia</td>\n    </tr>\n    <tr>\n      <th>4</th>\n      <td>2021</td>\n      <td>Mario</td>\n      <td>Maria Angelica</td>\n      <td>Colombia</td>\n    </tr>\n  </tbody>\n</table>\n</div>"
     },
     "execution_count": 9,
     "metadata": {},
     "output_type": "execute_result"
    }
   ],
   "source": [
    "kids_born.rename(columns={'name':'new_name'})"
   ],
   "metadata": {
    "collapsed": false
   }
  },
  {
   "cell_type": "markdown",
   "source": [
    "#### Rename two or more columns"
   ],
   "metadata": {
    "collapsed": false
   }
  },
  {
   "cell_type": "code",
   "execution_count": 13,
   "outputs": [
    {
     "data": {
      "text/plain": "   birth_year      kid_name        mom_name   country\n0        2013          Mila            Mona   Finland\n1        2014          Sara            Mona   Finland\n2        2012       Mathias           Steph     Spain\n3        2011  Juan Vicente            Lina  Colombia\n4        2021         Mario  Maria Angelica  Colombia",
      "text/html": "<div>\n<style scoped>\n    .dataframe tbody tr th:only-of-type {\n        vertical-align: middle;\n    }\n\n    .dataframe tbody tr th {\n        vertical-align: top;\n    }\n\n    .dataframe thead th {\n        text-align: right;\n    }\n</style>\n<table border=\"1\" class=\"dataframe\">\n  <thead>\n    <tr style=\"text-align: right;\">\n      <th></th>\n      <th>birth_year</th>\n      <th>kid_name</th>\n      <th>mom_name</th>\n      <th>country</th>\n    </tr>\n  </thead>\n  <tbody>\n    <tr>\n      <th>0</th>\n      <td>2013</td>\n      <td>Mila</td>\n      <td>Mona</td>\n      <td>Finland</td>\n    </tr>\n    <tr>\n      <th>1</th>\n      <td>2014</td>\n      <td>Sara</td>\n      <td>Mona</td>\n      <td>Finland</td>\n    </tr>\n    <tr>\n      <th>2</th>\n      <td>2012</td>\n      <td>Mathias</td>\n      <td>Steph</td>\n      <td>Spain</td>\n    </tr>\n    <tr>\n      <th>3</th>\n      <td>2011</td>\n      <td>Juan Vicente</td>\n      <td>Lina</td>\n      <td>Colombia</td>\n    </tr>\n    <tr>\n      <th>4</th>\n      <td>2021</td>\n      <td>Mario</td>\n      <td>Maria Angelica</td>\n      <td>Colombia</td>\n    </tr>\n  </tbody>\n</table>\n</div>"
     },
     "execution_count": 13,
     "metadata": {},
     "output_type": "execute_result"
    }
   ],
   "source": [
    "kids_born.rename(columns={'name':'kid_name', 'year_born':'birth_year'})"
   ],
   "metadata": {
    "collapsed": false
   }
  },
  {
   "cell_type": "markdown",
   "source": [
    "#### Save the new names into dataframe\n",
    "\n",
    "Para guardar todos los cambios que se realicen al DataFrame debemos utilizar el operdaor de asignación **=**\n",
    "\n",
    "Example:\n",
    "\n",
    "`name_of_dataframe = the_action( for example rename.columns)`"
   ],
   "metadata": {
    "collapsed": false
   }
  },
  {
   "cell_type": "code",
   "execution_count": 12,
   "outputs": [],
   "source": [
    "kids_born = kids_born.rename(columns={'name':'kid_name'})"
   ],
   "metadata": {
    "collapsed": false
   }
  },
  {
   "cell_type": "markdown",
   "source": [
    "### Exercise: Rename columns of AirBnB Dataframe"
   ],
   "metadata": {
    "collapsed": false
   }
  },
  {
   "cell_type": "markdown",
   "source": [
    "### Explore the basic information of the dataframe\n",
    "\n",
    "`ìnfo()` --> give us:\n",
    "1. Number of columns\n",
    "2. Number of rows\n",
    "3. and data types"
   ],
   "metadata": {
    "collapsed": false
   }
  },
  {
   "cell_type": "code",
   "execution_count": 14,
   "outputs": [
    {
     "name": "stdout",
     "output_type": "stream",
     "text": [
      "<class 'pandas.core.frame.DataFrame'>\n",
      "RangeIndex: 23524 entries, 0 to 23523\n",
      "Data columns (total 18 columns):\n",
      " #   Column                          Non-Null Count  Dtype  \n",
      "---  ------                          --------------  -----  \n",
      " 0   id                              23524 non-null  int64  \n",
      " 1   name                            23524 non-null  object \n",
      " 2   host_id                         23524 non-null  int64  \n",
      " 3   host_name                       23521 non-null  object \n",
      " 4   neighbourhood_group             23524 non-null  object \n",
      " 5   neighbourhood                   23524 non-null  object \n",
      " 6   latitude                        23524 non-null  float64\n",
      " 7   longitude                       23524 non-null  float64\n",
      " 8   room_type                       23524 non-null  object \n",
      " 9   price                           23524 non-null  int64  \n",
      " 10  minimum_nights                  23524 non-null  int64  \n",
      " 11  number_of_reviews               23524 non-null  int64  \n",
      " 12  last_review                     18505 non-null  object \n",
      " 13  reviews_per_month               18505 non-null  float64\n",
      " 14  calculated_host_listings_count  23524 non-null  int64  \n",
      " 15  availability_365                23524 non-null  int64  \n",
      " 16  number_of_reviews_ltm           23524 non-null  int64  \n",
      " 17  license                         2652 non-null   object \n",
      "dtypes: float64(3), int64(8), object(7)\n",
      "memory usage: 3.2+ MB\n"
     ]
    }
   ],
   "source": [
    "df.info()"
   ],
   "metadata": {
    "collapsed": false
   }
  },
  {
   "cell_type": "markdown",
   "source": [
    "### If I just want the columns names I can use `.columns`"
   ],
   "metadata": {
    "collapsed": false
   }
  },
  {
   "cell_type": "code",
   "execution_count": 15,
   "outputs": [
    {
     "data": {
      "text/plain": "Index(['id', 'name', 'host_id', 'host_name', 'neighbourhood_group',\n       'neighbourhood', 'latitude', 'longitude', 'room_type', 'price',\n       'minimum_nights', 'number_of_reviews', 'last_review',\n       'reviews_per_month', 'calculated_host_listings_count',\n       'availability_365', 'number_of_reviews_ltm', 'license'],\n      dtype='object')"
     },
     "execution_count": 15,
     "metadata": {},
     "output_type": "execute_result"
    }
   ],
   "source": [
    "df.columns"
   ],
   "metadata": {
    "collapsed": false
   }
  },
  {
   "cell_type": "code",
   "execution_count": 16,
   "outputs": [
    {
     "data": {
      "text/plain": "Index(['id', 'name', 'host_id', 'owner_name', 'neighbourhood_group',\n       'neighbourhood', 'latitude', 'longitude', 'room_type', 'price',\n       'minimum_nights', 'number_of_reviews', 'last_review',\n       'reviews_per_month', 'calculated_host_listings_count',\n       'availability_365', 'number_of_reviews_ltm', 'license'],\n      dtype='object')"
     },
     "execution_count": 16,
     "metadata": {},
     "output_type": "execute_result"
    }
   ],
   "source": [
    "df = df.rename(columns={'host_name':'owner_name'})\n",
    "df.columns"
   ],
   "metadata": {
    "collapsed": false
   }
  },
  {
   "cell_type": "code",
   "execution_count": null,
   "outputs": [],
   "source": [],
   "metadata": {
    "collapsed": false
   }
  }
 ],
 "metadata": {
  "kernelspec": {
   "display_name": "Python 3",
   "language": "python",
   "name": "python3"
  },
  "language_info": {
   "codemirror_mode": {
    "name": "ipython",
    "version": 2
   },
   "file_extension": ".py",
   "mimetype": "text/x-python",
   "name": "python",
   "nbconvert_exporter": "python",
   "pygments_lexer": "ipython2",
   "version": "2.7.6"
  }
 },
 "nbformat": 4,
 "nbformat_minor": 0
}
